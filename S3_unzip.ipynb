{
 "cells": [
  {
   "cell_type": "code",
   "execution_count": null,
   "metadata": {},
   "outputs": [],
   "source": [
    "import pandas as pd\n",
    "import os\n",
    "from s3fs.core import S3FileSystem\n",
    "import random\n",
    "\n",
    "import boto3\n",
    "import json"
   ]
  },
  {
   "cell_type": "code",
   "execution_count": null,
   "metadata": {},
   "outputs": [],
   "source": [
    "### client = boto3.client('lambda', region_name='eu-west-1')\n",
    "\n",
    "# unzip an archive\n",
    "def lambda_unzip(archive, destination):\n",
    "    pl = {\"source\": archive,\n",
    "          \"destination\": destination}\n",
    "\n",
    "    response = client.invoke(FunctionName='aws-lambda-unzipper', InvocationType='RequestResponse', Payload=json.dumps(pl))\n",
    "\n",
    "    print(response['Payload'].read()) \n",
    "    \n",
    "\n",
    "archive = 's3://aws-worskhop-data/taxi-nyc/taxinyc_train.csv.zip' \n",
    "lambda_unzip(archive, 's3://aws-worskhop-data/taxi-nyc/')"
   ]
  }
 ],
 "metadata": {
  "kernelspec": {
   "display_name": "conda_tensorflow_p36",
   "language": "python",
   "name": "conda_tensorflow_p36"
  },
  "language_info": {
   "codemirror_mode": {
    "name": "ipython",
    "version": 3
   },
   "file_extension": ".py",
   "mimetype": "text/x-python",
   "name": "python",
   "nbconvert_exporter": "python",
   "pygments_lexer": "ipython3",
   "version": "3.6.5"
  }
 },
 "nbformat": 4,
 "nbformat_minor": 2
}

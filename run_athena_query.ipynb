{
 "cells": [
  {
   "cell_type": "code",
   "execution_count": null,
   "metadata": {},
   "outputs": [],
   "source": [
    "#!/usr/bin/env python\n",
    "# vim: set fileencoding=utf8 :\n",
    "#```\n",
    "\n",
    "#!pip install -U boto3 retrying\n",
    "#!export AWS_DEFAULT_PROFILE=test\n"
   ]
  },
  {
   "cell_type": "code",
   "execution_count": null,
   "metadata": {},
   "outputs": [],
   "source": [
    "!cat athena_taxi_raw.sql\n"
   ]
  },
  {
   "cell_type": "code",
   "execution_count": null,
   "metadata": {},
   "outputs": [],
   "source": [
    "!python athena.py athena_taxi_raw.sql"
   ]
  },
  {
   "cell_type": "code",
   "execution_count": 3,
   "metadata": {},
   "outputs": [
    {
     "name": "stdout",
     "output_type": "stream",
     "text": [
      "\r\n"
     ]
    }
   ],
   "source": [
    "!python athena.py athena_taxi_raw_2014.sql"
   ]
  },
  {
   "cell_type": "code",
   "execution_count": 4,
   "metadata": {},
   "outputs": [
    {
     "name": "stdout",
     "output_type": "stream",
     "text": [
      "\r\n"
     ]
    }
   ],
   "source": [
    "!python athena.py athena_taxi_raw_2015.sql"
   ]
  },
  {
   "cell_type": "code",
   "execution_count": null,
   "metadata": {},
   "outputs": [],
   "source": [
    "!ls -1"
   ]
  },
  {
   "cell_type": "code",
   "execution_count": 2,
   "metadata": {},
   "outputs": [
    {
     "name": "stdout",
     "output_type": "stream",
     "text": [
      "INFO:root:{'QueryExecutionId': '54e99fc2-8fef-4995-bdea-ef46fb362036',\r\n",
      " 'ResponseMetadata': {'HTTPHeaders': {'connection': 'keep-alive',\r\n",
      "                                      'content-length': '59',\r\n",
      "                                      'content-type': 'application/x-amz-json-1.1',\r\n",
      "                                      'date': 'Mon, 10 Jun 2019 09:38:43 GMT',\r\n",
      "                                      'x-amzn-requestid': '37c76f81-e911-4ed5-a345-c4bb9e40a36c'},\r\n",
      "                      'HTTPStatusCode': 200,\r\n",
      "                      'RequestId': '37c76f81-e911-4ed5-a345-c4bb9e40a36c',\r\n",
      "                      'RetryAttempts': 0}}\r\n",
      "INFO:root:{'Query': 'WITH \\n'\r\n",
      "          '    dataset AS \\n'\r\n",
      "          '    (SELECT CAST (pickup_datetime AS TIMESTAMP WITH time zone) AT '\r\n",
      "          \"TIME ZONE 'America/New_York' AS est, \\n\"\r\n",
      "          '                  ST_POINT(pickup_longitude,pickup_latitude) '\r\n",
      "          'pickup_point,\\n'\r\n",
      "          '                  ST_POINT(dropoff_longitude,dropoff_latitude) '\r\n",
      "          'dropoff_point,\\n'\r\n",
      "          '                  to_unixtime( CAST (pickup_datetime AS TIMESTAMP '\r\n",
      "          \"WITH time zone) AT TIME ZONE 'America/New_York') \"\r\n",
      "          'AS                     epoch,\\n'\r\n",
      "          '                  24*60*60 as seconds_in_day,\\n'\r\n",
      "          '                  *\\n'\r\n",
      "          '     FROM raw_data)\\n'\r\n",
      "          '    \\n'\r\n",
      "          '     SELECT\\n'\r\n",
      "          '     \\n'\r\n",
      "          '        -- Target\\n'\r\n",
      "          '        fare_amount,\\n'\r\n",
      "          '        \\n'\r\n",
      "          '        -- time features\\n'\r\n",
      "          '        day(est) day,\\n'\r\n",
      "          '        day_of_week(est) dayofweek ,\\n'\r\n",
      "          '        year(est) year ,\\n'\r\n",
      "          '        month(est) month ,\\n'\r\n",
      "          '        day_of_month(est) dayofmonth ,\\n'\r\n",
      "          '        hour(est) hour ,\\n'\r\n",
      "          '        minute(est) minute ,\\n'\r\n",
      "          '         \\n'\r\n",
      "          '        -- cyclclical variables\\n'\r\n",
      "          '        sin(2*pi()*epoch/seconds_in_day) sin_day,\\n'\r\n",
      "          '        cos(2*pi()*epoch/seconds_in_day) cos_day,\\n'\r\n",
      "          '        sin(2*pi()*epoch/(seconds_in_day*7)) sin_week,\\n'\r\n",
      "          '        cos(2*pi()*epoch/(seconds_in_day*7)) cos_week,\\n'\r\n",
      "          '     \\n'\r\n",
      "          '        -- Raw features\\n'\r\n",
      "          '        pickup_longitude,\\n'\r\n",
      "          '        pickup_latitude,\\n'\r\n",
      "          '        dropoff_longitude,\\n'\r\n",
      "          '        dropoff_latitude,\\n'\r\n",
      "          '        passenger_count\\n'\r\n",
      "          '         \\n'\r\n",
      "          '    FROM dataset',\r\n",
      " 'QueryExecutionContext': {'Database': 'taxinyc'},\r\n",
      " 'QueryExecutionId': '54e99fc2-8fef-4995-bdea-ef46fb362036',\r\n",
      " 'ResultConfiguration': {'OutputLocation': 's3://aws-worskhop-data/54e99fc2-8fef-4995-bdea-ef46fb362036.csv'},\r\n",
      " 'StatementType': 'DML',\r\n",
      " 'Statistics': {},\r\n",
      " 'Status': {'State': 'RUNNING',\r\n",
      "            'SubmissionDateTime': datetime.datetime(2019, 6, 10, 9, 38, 44, 615000, tzinfo=tzlocal())},\r\n",
      " 'WorkGroup': 'primary'}\r\n"
     ]
    }
   ],
   "source": [
    "!cat athena.log"
   ]
  },
  {
   "cell_type": "markdown",
   "metadata": {},
   "source": [
    "athena.log  # program log\n",
    "athena.py   # main program\n",
    "foo.sql     # query execution result\n",
    "foo.sql.csv # sql output"
   ]
  }
 ],
 "metadata": {
  "kernelspec": {
   "display_name": "conda_tensorflow_p36",
   "language": "python",
   "name": "conda_tensorflow_p36"
  },
  "language_info": {
   "codemirror_mode": {
    "name": "ipython",
    "version": 3
   },
   "file_extension": ".py",
   "mimetype": "text/x-python",
   "name": "python",
   "nbconvert_exporter": "python",
   "pygments_lexer": "ipython3",
   "version": "3.6.5"
  }
 },
 "nbformat": 4,
 "nbformat_minor": 2
}
